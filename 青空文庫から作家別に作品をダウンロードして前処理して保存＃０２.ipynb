{
  "nbformat": 4,
  "nbformat_minor": 0,
  "metadata": {
    "colab": {
      "name": "青空文庫から作家別に作品をダウンロードして前処理して保存＃０２",
      "provenance": [],
      "collapsed_sections": [
        "w_NDSzDpdbaI",
        "CxT21r7elZ6L",
        "Dqd-PnLIleRd",
        "mL5H1RU9l27c",
        "GkYpOJMXe_zF"
      ],
      "authorship_tag": "ABX9TyMfRW/limQCmfgALx5jAZxq"
    },
    "kernelspec": {
      "name": "python3",
      "display_name": "Python 3"
    },
    "language_info": {
      "name": "python"
    }
  },
  "cells": [
    {
      "cell_type": "markdown",
      "source": [
        "# 青空文庫から作家別に作品をダウンロードして前処理して保存\n",
        "\n",
        "https://qiita.com/dzbt_dzbt/items/593dbd698a07c12a771c\n",
        "\n",
        "@dzbt_dzbtさんの記事をベースに、Colab上で動作するように改変しました。有益な記事ありがとうございます。前処理の内容は記事をご覧ください。\n",
        "\n",
        "追加内容。\n",
        "- 簡易的に会話文を抜き出す機能を追加しました。\n",
        "- 挿絵が入ったアーカイブの処理がエラーになる現象を回避しました。\n",
        "\n",
        "\n",
        "https://www.aozora.gr.jp/\n",
        "\n",
        "青空文庫の活動にも感謝。"
      ],
      "metadata": {
        "id": "w_NDSzDpdbaI"
      }
    },
    {
      "cell_type": "markdown",
      "source": [
        "### import"
      ],
      "metadata": {
        "id": "CxT21r7elZ6L"
      }
    },
    {
      "cell_type": "code",
      "source": [
        "# import\n",
        "import pandas as pd\n",
        "from pathlib import Path\n",
        "import os\n",
        "import zipfile"
      ],
      "metadata": {
        "id": "l5ODJSd1T6pT"
      },
      "execution_count": 59,
      "outputs": []
    },
    {
      "cell_type": "markdown",
      "source": [
        "## ダウンロードおよび保存形式の指定"
      ],
      "metadata": {
        "id": "Dqd-PnLIleRd"
      }
    },
    {
      "cell_type": "code",
      "source": [
        "#@title 設定\n",
        "#@markdown 青空文庫の作家番号(6桁)\n",
        "author_id = \"000009\" #@param {type:\"string\"}\n",
        "#@markdown 青空文庫の表記での作家名\n",
        "author_name = '\\u30C9\\u30A4\\u30EB \\u30A2\\u30FC\\u30B5\\u30FC\\u30FB\\u30B3\\u30CA\\u30F3'  #@param {type:\"string\"}\n",
        "\n",
        "#@markdown 2カラム目に作品名を入れるか\n",
        "write_title = False #@param {type:\"boolean\"}\n",
        "\n",
        "#@markdown 「」内の文章だけ抽出するか？\n",
        "only_dialogue = True #@param {type:\"boolean\"}\n",
        "\n",
        "#@markdown 1行目をカラム名にするか（カラム名「text」「title」)\n",
        "write_header = False #@param {type:\"boolean\"}\n",
        "#@markdown 元データをUTF-8にしたテキストファイルを保存するか\n",
        "save_utf8_org = True #@param {type:\"boolean\"}\n",
        "\n",
        "# 保存先\n",
        "#@markdown 保存先最後の/は不要です。\n",
        "SAVE_PATH = '/content' #@param {type:\"string\"}\n",
        "out_dir = Path(SAVE_PATH + f'/out_{author_id}/')  # ファイル出力先\n",
        "tx_org_dir = Path(out_dir / './org/')  # 元テキストのUTF-8変換ファイルの保存先\n",
        "tx_edit_dir = Path(out_dir / './edit/')  # テキスト整形後のファイル保存先"
      ],
      "metadata": {
        "id": "vq3gQVWBRdeA"
      },
      "execution_count": 60,
      "outputs": []
    },
    {
      "cell_type": "markdown",
      "source": [
        "# ダウンロード"
      ],
      "metadata": {
        "id": "mL5H1RU9l27c"
      }
    },
    {
      "cell_type": "code",
      "source": [
        "# 念のため設定を確認してみます。\n",
        "print('SAVE PATH:', out_dir)"
      ],
      "metadata": {
        "colab": {
          "base_uri": "https://localhost:8080/"
        },
        "id": "x8Wr2ByKTWcq",
        "outputId": "d8fcca00-48ef-4dc8-b845-fc15a30e3d13"
      },
      "execution_count": 61,
      "outputs": [
        {
          "output_type": "stream",
          "name": "stdout",
          "text": [
            "SAVE PATH: /content/out_000009\n"
          ]
        }
      ]
    },
    {
      "cell_type": "code",
      "source": [
        "# Colabにsubversion入ってなかったのでinstall\n",
        "!apt install -y subversion"
      ],
      "metadata": {
        "colab": {
          "base_uri": "https://localhost:8080/"
        },
        "id": "o4np3SSjXg4v",
        "outputId": "04757f66-3f5c-4abe-92ca-ecdc9cee394c"
      },
      "execution_count": 62,
      "outputs": [
        {
          "output_type": "stream",
          "name": "stdout",
          "text": [
            "Reading package lists... Done\n",
            "Building dependency tree       \n",
            "Reading state information... Done\n",
            "subversion is already the newest version (1.9.7-4ubuntu1).\n",
            "The following package was automatically installed and is no longer required:\n",
            "  libnvidia-common-460\n",
            "Use 'apt autoremove' to remove it.\n",
            "0 upgraded, 0 newly installed, 0 to remove and 42 not upgraded.\n"
          ]
        }
      ]
    },
    {
      "cell_type": "code",
      "source": [
        "# 作家別のURLを定義\n",
        "author_url = r'https://github.com/aozorabunko/aozorabunko/trunk/cards/' + author_id + '/'\n",
        "os.environ['aurl'] = author_url\n",
        "print('Import files from :',author_url)\n",
        "# svnでダウンロード\n",
        "!svn export $aurl"
      ],
      "metadata": {
        "colab": {
          "base_uri": "https://localhost:8080/"
        },
        "id": "KTsthSbyU6Y5",
        "outputId": "e0a9aca6-78e6-4a5f-d03b-78d13b277fad"
      },
      "execution_count": 63,
      "outputs": [
        {
          "output_type": "stream",
          "name": "stdout",
          "text": [
            "Import files from : https://github.com/aozorabunko/aozorabunko/trunk/cards/000009/\n",
            "svn: E155000: Destination directory exists; please remove the directory or use --force to overwrite\n",
            "svn: E155000: '000009' already exists\n"
          ]
        }
      ]
    },
    {
      "cell_type": "markdown",
      "source": [
        "# 前処理"
      ],
      "metadata": {
        "id": "riMSdKzSl9W4"
      }
    },
    {
      "cell_type": "code",
      "source": [
        "# \n",
        "import pandas as pd\n",
        "from pathlib import Path\n",
        "import re\n",
        "\n",
        "def text_cleanse_df(df):\n",
        "    # 本文の先頭を探す（'---…'区切りの直後から本文が始まる前提）\n",
        "    head_tx = list(df[df['text'].str.contains(\n",
        "        '-------------------------------------------------------')].index)\n",
        "    # 本文の末尾を探す（'底本：'の直前に本文が終わる前提）\n",
        "    atx = list(df[df['text'].str.contains('底本：')].index)\n",
        "    if head_tx == []:\n",
        "        # もし'---…'区切りが無い場合は、作家名の直後に本文が始まる前提\n",
        "        head_tx = list(df[df['text'].str.contains(author_name)].index)\n",
        "        head_tx_num = head_tx[0]+1\n",
        "    else:\n",
        "        # 2個目の'---…'区切り直後から本文が始まる\n",
        "        head_tx_num = head_tx[1]+1\n",
        "    df_e = df[head_tx_num:atx[0]].copy() # dfを参照せず、コピーとする。\n",
        "    del df # 一応\n",
        "\n",
        "    # 青空文庫の書式削除\n",
        "    df_e = df_e.replace({'text': {'《.*?》': ''}}, regex=True)\n",
        "    df_e = df_e.replace({'text': {'［.*?］': ''}}, regex=True)\n",
        "    df_e = df_e.replace({'text': {'｜': ''}}, regex=True)\n",
        "\n",
        "    # 字下げ（行頭の全角スペース）を削除\n",
        "    df_e = df_e.replace({'text': {'　': ''}}, regex=True)\n",
        "\n",
        "    # 節区切りを削除\n",
        "    df_e = df_e.replace({'text': {'^.$': ''}}, regex=True)\n",
        "    df_e = df_e.replace({'text': {'^―――.*$': ''}}, regex=True)\n",
        "    df_e = df_e.replace({'text': {'^＊＊＊.*$': ''}}, regex=True)\n",
        "    df_e = df_e.replace({'text': {'^×××.*$': ''}}, regex=True)\n",
        "\n",
        "    # 記号、および記号削除によって残ったカッコを削除\n",
        "    df_e = df_e.replace({'text': {'―': ''}}, regex=True)\n",
        "    df_e = df_e.replace({'text': {'…': ''}}, regex=True)\n",
        "    df_e = df_e.replace({'text': {'※': ''}}, regex=True)\n",
        "    df_e = df_e.replace({'text': {'「」': ''}}, regex=True)\n",
        "\n",
        "    # カッコ内のテキストを抽出\n",
        "    if only_dialogue:\n",
        "      df_e['dialogue'] = df_e['text'].str.extract(r'[「『](.+?)[」』]', expand=False)\n",
        "      if write_title:\n",
        "        # タイトル列を作る\n",
        "        df_e['dialogue'] = df_e['text'][0]\n",
        "      # column名を変更し、nanをdrop。\n",
        "      df_e = df_e.drop(columns='text').rename(columns={'dialogue':'text'})\n",
        "      df_e.dropna(how='any', inplace=True)\n",
        "\n",
        "    # 一文字以下で構成されている行を削除\n",
        "    df_e['length'] = df_e['text'].map(lambda x: len(x))\n",
        "    df_e = df_e[df_e['length'] > 1]\n",
        "\n",
        "    # インデックスがずれるので振りなおす\n",
        "    df_e = df_e.reset_index().drop(['index'], axis=1)\n",
        "\n",
        "    # 空白行を削除する（念のため）\n",
        "    df_e = df_e[~(df_e['text'] == '')]\n",
        "\n",
        "    # インデックスがずれるので振り直し、文字の長さの列を削除する\n",
        "    df_e = df_e.reset_index().drop(['index', 'length'], axis=1)\n",
        "\n",
        "    return df_e\n",
        "\n",
        "\n",
        "def save_cleanse_text(target_file):\n",
        "\n",
        "    try:\n",
        "        # ファイルの読み込み(zipファイルにはtxtを１つしかない前提)\n",
        "        print(target_file)\n",
        "\n",
        "        temp_zip = zipfile.ZipFile(target_file)\n",
        "        with zipfile.ZipFile(target_file) as zf:\n",
        "          for file in zf.namelist():\n",
        "            if zf.getinfo(file).filename.endswith('.txt'):\n",
        "              print(file)\n",
        "              # Pandas DataFrameとして読み込む（cp932で読み込まないと異体字が読めない）\n",
        "              df_tmp =  pd.read_csv(temp_zip.open(file),\n",
        "                                    encoding='cp932',\n",
        "                                    names=['text'])\n",
        "              break  \n",
        "\n",
        "        # 元データをUTF-8に変換してテキストファイルを保存\n",
        "        if save_utf8_org:\n",
        "            out_org_file_nm = Path(target_file.stem + '_org_utf-8.tsv')\n",
        "            df_tmp.to_csv(Path(tx_org_dir / out_org_file_nm), sep='\\t',\n",
        "                          encoding='utf-8', index=None)\n",
        "            \n",
        "        # テキスト整形\n",
        "        df_tmp_e = text_cleanse_df(df_tmp)\n",
        "\n",
        "        if write_title:\n",
        "            # タイトル列を作る\n",
        "            df_tmp_e['title'] = df_tmp['text'][0]\n",
        "\n",
        "        # print(df_tmp_e.head())\n",
        "\n",
        "        out_edit_file_nm = Path(target_file.stem + '_clns_utf-8.txt')\n",
        "        df_tmp_e.to_csv(Path(tx_edit_dir / out_edit_file_nm), sep='\\t',\n",
        "                        encoding='utf-8', index=None, header=write_header)\n",
        "    except:\n",
        "      print(f'ERROR: {target_file}')\n"
      ],
      "metadata": {
        "id": "2WSwMkIWTtJB"
      },
      "execution_count": 64,
      "outputs": []
    },
    {
      "cell_type": "code",
      "source": [
        "# main\n",
        "\n",
        "def main():\n",
        "    tx_dir = Path(str(author_id) + '/files/')\n",
        "    print('Target dir:', tx_dir)\n",
        "    # zipファイルのリストを作成\n",
        "    zip_list = list(tx_dir.glob('*.zip'))\n",
        "    # 保存ディレクトリを作成しておく\n",
        "    tx_edit_dir.mkdir(exist_ok=True, parents=True)\n",
        "    if save_utf8_org:\n",
        "        tx_org_dir.mkdir(exist_ok=True, parents=True)\n",
        "\n",
        "    for target_file in zip_list:\n",
        "        save_cleanse_text(target_file)\n",
        "\n",
        "main()"
      ],
      "metadata": {
        "colab": {
          "base_uri": "https://localhost:8080/"
        },
        "id": "Ck5b7E7fc9uF",
        "outputId": "88bb54c5-99f2-4513-f4a4-d05a51c245fe"
      },
      "execution_count": 65,
      "outputs": [
        {
          "output_type": "stream",
          "name": "stdout",
          "text": [
            "Target dir: 000009/files\n",
            "000009/files/43471_ruby_16500.zip\n",
            "09hokkyokuseigono_sencho.txt\n",
            "000009/files/50712_ruby_36970.zip\n",
            "kuchibiruno_nejireta_otoko.txt\n",
            "000009/files/50715_ruby_36989.zip\n",
            "kanja_ken_dokyonin.txt\n",
            "000009/files/43498_ruby_16423.zip\n",
            "the_gloria_scott.txt\n",
            "000009/files/43522_ruby_16831.zip\n",
            "the_empty_house.txt\n",
            "000009/files/57322_ruby_57271.zip\n",
            "daidaino_tane_5tsubu.txt\n",
            "000009/files/54911_ruby_47219.zip\n",
            "magarerumono.txt\n",
            "000009/files/8_ruby_31219.zip\n",
            "akage_renmei.txt\n",
            "000009/files/45340_ruby_18659.zip\n",
            "ango_butojinno_nazo.txt\n",
            "000009/files/226_ruby_31221.zip\n",
            "bohemiano_shubun.txt\n",
            "000009/files/55881_ruby_50043.zip\n",
            "hino_echudo.txt\n",
            "000009/files/43028_ruby_15448.zip\n",
            "the_yellow_face.txt\n",
            "000009/files/50711_ruby_36968.zip\n",
            "soenseki.txt\n",
            "000009/files/43523_ruby_17190.zip\n",
            "the_adventure.txt\n",
            "000009/files/50716_ruby_36991.zip\n",
            "gloria_scottgo.txt\n",
            "000009/files/50714_ruby_36987.zip\n",
            "tsuchiirono_kao.txt\n",
            "000009/files/54910_ruby_47217.zip\n",
            "doitsu_jiken.txt\n",
            "000009/files/50718_ruby_36995.zip\n",
            "hinshino_tantei.txt\n",
            "000009/files/42929_ruby_15737.zip\n",
            "silve_blaze.txt\n",
            "000009/files/50717_ruby_36993.zip\n",
            "madarano_himo.txt\n",
            "000009/files/55882_ruby_50045.zip\n",
            "sussexno_kyuketsuki.txt\n",
            "000009/files/43056_ruby_16830.zip\n",
            "the_lost_special.txt\n",
            "000009/files/43497_ruby_16274.zip\n",
            "the_stockbrokers_clerk.txt\n",
            "000009/files/61393_ruby_75065.zip\n",
            "silver_blaze.txt\n",
            "000009/files/54914_ruby_47225.zip\n",
            "jitenshanorino_kage.txt\n",
            "000009/files/54912_ruby_47221.zip\n",
            "kabushiki_nakagainin.txt\n",
            "000009/files/43524_ruby_16422.zip\n",
            "the_resident_patient.txt\n",
            "000009/files/54913_ruby_47223.zip\n",
            "reigate_puzzle.txt\n",
            "000009/files/50713_ruby_36984.zip\n",
            "odoru_ningyo.txt\n",
            "000009/files/54915_ruby_47227.zip\n",
            "sanmaino_gakusei.txt\n"
          ]
        }
      ]
    },
    {
      "cell_type": "markdown",
      "source": [
        "# 処理後のデータをダウンロード\n",
        "\n",
        "zipファイルにして、ダウンロード"
      ],
      "metadata": {
        "id": "GkYpOJMXe_zF"
      }
    },
    {
      "cell_type": "code",
      "source": [
        "from google.colab import files\n",
        "# ダウンロードしたいフォルダを zip 圧縮する\n",
        "!zip -r /content/aozora_files.zip $out_dir\n",
        "# Colabからダウンロード\n",
        "files.download('/content/aozora_files.zip')"
      ],
      "metadata": {
        "colab": {
          "base_uri": "https://localhost:8080/",
          "height": 0
        },
        "id": "O7_Iaq-6hvoz",
        "outputId": "afacf52c-3a7a-4fab-a631-d81cba0aa121"
      },
      "execution_count": 66,
      "outputs": [
        {
          "output_type": "stream",
          "name": "stdout",
          "text": [
            "updating: content/out_000009/ (stored 0%)\n",
            "updating: content/out_000009/org/ (stored 0%)\n",
            "updating: content/out_000009/org/43523_ruby_17190_org_utf-8.tsv (deflated 67%)\n",
            "updating: content/out_000009/org/43498_ruby_16423_org_utf-8.tsv (deflated 66%)\n",
            "updating: content/out_000009/org/54913_ruby_47223_org_utf-8.tsv (deflated 63%)\n",
            "updating: content/out_000009/org/50716_ruby_36991_org_utf-8.tsv (deflated 62%)\n",
            "updating: content/out_000009/org/54914_ruby_47225_org_utf-8.tsv (deflated 63%)\n",
            "updating: content/out_000009/org/43497_ruby_16274_org_utf-8.tsv (deflated 67%)\n",
            "updating: content/out_000009/org/50711_ruby_36968_org_utf-8.tsv (deflated 64%)\n",
            "updating: content/out_000009/org/57322_ruby_57271_org_utf-8.tsv (deflated 60%)\n",
            "updating: content/out_000009/org/226_ruby_31221_org_utf-8.tsv (deflated 62%)\n",
            "updating: content/out_000009/org/43471_ruby_16500_org_utf-8.tsv (deflated 64%)\n",
            "updating: content/out_000009/org/61393_ruby_75065_org_utf-8.tsv (deflated 62%)\n",
            "updating: content/out_000009/org/42929_ruby_15737_org_utf-8.tsv (deflated 65%)\n",
            "updating: content/out_000009/org/43524_ruby_16422_org_utf-8.tsv (deflated 67%)\n",
            "updating: content/out_000009/org/50712_ruby_36970_org_utf-8.tsv (deflated 63%)\n",
            "updating: content/out_000009/org/43028_ruby_15448_org_utf-8.tsv (deflated 68%)\n",
            "updating: content/out_000009/org/55881_ruby_50043_org_utf-8.tsv (deflated 64%)\n",
            "updating: content/out_000009/org/8_ruby_31219_org_utf-8.tsv (deflated 64%)\n",
            "updating: content/out_000009/org/50715_ruby_36989_org_utf-8.tsv (deflated 63%)\n",
            "updating: content/out_000009/org/54910_ruby_47217_org_utf-8.tsv (deflated 63%)\n",
            "updating: content/out_000009/org/55882_ruby_50045_org_utf-8.tsv (deflated 61%)\n",
            "updating: content/out_000009/org/54912_ruby_47221_org_utf-8.tsv (deflated 63%)\n",
            "updating: content/out_000009/org/43056_ruby_16830_org_utf-8.tsv (deflated 64%)\n",
            "updating: content/out_000009/org/54911_ruby_47219_org_utf-8.tsv (deflated 62%)\n",
            "updating: content/out_000009/org/54915_ruby_47227_org_utf-8.tsv (deflated 63%)\n",
            "updating: content/out_000009/org/43522_ruby_16831_org_utf-8.tsv (deflated 65%)\n",
            "updating: content/out_000009/org/50714_ruby_36987_org_utf-8.tsv (deflated 64%)\n",
            "updating: content/out_000009/org/50718_ruby_36995_org_utf-8.tsv (deflated 62%)\n",
            "updating: content/out_000009/org/45340_ruby_18659_org_utf-8.tsv (deflated 67%)\n",
            "updating: content/out_000009/org/50713_ruby_36984_org_utf-8.tsv (deflated 65%)\n",
            "updating: content/out_000009/org/50717_ruby_36993_org_utf-8.tsv (deflated 64%)\n",
            "updating: content/out_000009/edit/ (stored 0%)\n",
            "  adding: content/out_000009/edit/50715_ruby_36989_clns_utf-8.txt (deflated 59%)\n",
            "  adding: content/out_000009/edit/54910_ruby_47217_clns_utf-8.txt (deflated 63%)\n",
            "  adding: content/out_000009/edit/61393_ruby_75065_clns_utf-8.txt (deflated 59%)\n",
            "  adding: content/out_000009/edit/50714_ruby_36987_clns_utf-8.txt (deflated 60%)\n",
            "  adding: content/out_000009/edit/54915_ruby_47227_clns_utf-8.txt (deflated 62%)\n",
            "  adding: content/out_000009/edit/57322_ruby_57271_clns_utf-8.txt (deflated 57%)\n",
            "  adding: content/out_000009/edit/50713_ruby_36984_clns_utf-8.txt (deflated 62%)\n",
            "  adding: content/out_000009/edit/43523_ruby_17190_clns_utf-8.txt (deflated 65%)\n",
            "  adding: content/out_000009/edit/43524_ruby_16422_clns_utf-8.txt (deflated 66%)\n",
            "  adding: content/out_000009/edit/43497_ruby_16274_clns_utf-8.txt (deflated 66%)\n",
            "  adding: content/out_000009/edit/54913_ruby_47223_clns_utf-8.txt (deflated 60%)\n",
            "  adding: content/out_000009/edit/54914_ruby_47225_clns_utf-8.txt (deflated 59%)\n",
            "  adding: content/out_000009/edit/50718_ruby_36995_clns_utf-8.txt (deflated 60%)\n",
            "  adding: content/out_000009/edit/54911_ruby_47219_clns_utf-8.txt (deflated 57%)\n",
            "  adding: content/out_000009/edit/43498_ruby_16423_clns_utf-8.txt (deflated 63%)\n",
            "  adding: content/out_000009/edit/54912_ruby_47221_clns_utf-8.txt (deflated 60%)\n",
            "  adding: content/out_000009/edit/50716_ruby_36991_clns_utf-8.txt (deflated 56%)\n",
            "  adding: content/out_000009/edit/43056_ruby_16830_clns_utf-8.txt (deflated 57%)\n",
            "  adding: content/out_000009/edit/43028_ruby_15448_clns_utf-8.txt (deflated 67%)\n",
            "  adding: content/out_000009/edit/226_ruby_31221_clns_utf-8.txt (deflated 59%)\n",
            "  adding: content/out_000009/edit/50711_ruby_36968_clns_utf-8.txt (deflated 62%)\n",
            "  adding: content/out_000009/edit/45340_ruby_18659_clns_utf-8.txt (deflated 66%)\n",
            "  adding: content/out_000009/edit/55882_ruby_50045_clns_utf-8.txt (deflated 59%)\n",
            "  adding: content/out_000009/edit/42929_ruby_15737_clns_utf-8.txt (deflated 65%)\n",
            "  adding: content/out_000009/edit/50717_ruby_36993_clns_utf-8.txt (deflated 63%)\n",
            "  adding: content/out_000009/edit/43522_ruby_16831_clns_utf-8.txt (deflated 61%)\n",
            "  adding: content/out_000009/edit/55881_ruby_50043_clns_utf-8.txt (deflated 63%)\n",
            "  adding: content/out_000009/edit/43471_ruby_16500_clns_utf-8.txt (deflated 58%)\n",
            "  adding: content/out_000009/edit/50712_ruby_36970_clns_utf-8.txt (deflated 61%)\n",
            "  adding: content/out_000009/edit/8_ruby_31219_clns_utf-8.txt (deflated 61%)\n"
          ]
        },
        {
          "output_type": "display_data",
          "data": {
            "text/plain": [
              "<IPython.core.display.Javascript object>"
            ],
            "application/javascript": [
              "\n",
              "    async function download(id, filename, size) {\n",
              "      if (!google.colab.kernel.accessAllowed) {\n",
              "        return;\n",
              "      }\n",
              "      const div = document.createElement('div');\n",
              "      const label = document.createElement('label');\n",
              "      label.textContent = `Downloading \"${filename}\": `;\n",
              "      div.appendChild(label);\n",
              "      const progress = document.createElement('progress');\n",
              "      progress.max = size;\n",
              "      div.appendChild(progress);\n",
              "      document.body.appendChild(div);\n",
              "\n",
              "      const buffers = [];\n",
              "      let downloaded = 0;\n",
              "\n",
              "      const channel = await google.colab.kernel.comms.open(id);\n",
              "      // Send a message to notify the kernel that we're ready.\n",
              "      channel.send({})\n",
              "\n",
              "      for await (const message of channel.messages) {\n",
              "        // Send a message to notify the kernel that we're ready.\n",
              "        channel.send({})\n",
              "        if (message.buffers) {\n",
              "          for (const buffer of message.buffers) {\n",
              "            buffers.push(buffer);\n",
              "            downloaded += buffer.byteLength;\n",
              "            progress.value = downloaded;\n",
              "          }\n",
              "        }\n",
              "      }\n",
              "      const blob = new Blob(buffers, {type: 'application/binary'});\n",
              "      const a = document.createElement('a');\n",
              "      a.href = window.URL.createObjectURL(blob);\n",
              "      a.download = filename;\n",
              "      div.appendChild(a);\n",
              "      a.click();\n",
              "      div.remove();\n",
              "    }\n",
              "  "
            ]
          },
          "metadata": {}
        },
        {
          "output_type": "display_data",
          "data": {
            "text/plain": [
              "<IPython.core.display.Javascript object>"
            ],
            "application/javascript": [
              "download(\"download_3cec0d8a-6c16-439f-a6d9-ea5f8ad76523\", \"aozora_files.zip\", 985347)"
            ]
          },
          "metadata": {}
        }
      ]
    }
  ]
}