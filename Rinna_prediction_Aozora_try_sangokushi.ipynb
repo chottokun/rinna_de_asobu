{
  "nbformat": 4,
  "nbformat_minor": 0,
  "metadata": {
    "colab": {
      "name": "Rinna_prediction_Aozora_try_sangokushi.ipynb ",
      "provenance": [],
      "collapsed_sections": [],
      "authorship_tag": "ABX9TyPXg2BbHmqTiX5vgbEaV5Wz",
      "include_colab_link": true
    },
    "kernelspec": {
      "name": "python3",
      "display_name": "Python 3"
    },
    "language_info": {
      "name": "python"
    }
  },
  "cells": [
    {
      "cell_type": "markdown",
      "metadata": {
        "id": "view-in-github",
        "colab_type": "text"
      },
      "source": [
        "<a href=\"https://colab.research.google.com/github/chottokun/rinna_de_asobu/blob/main/Rinna_prediction_Aozora_try_sangokushi.ipynb\" target=\"_parent\"><img src=\"https://colab.research.google.com/assets/colab-badge.svg\" alt=\"Open In Colab\"/></a>"
      ]
    },
    {
      "cell_type": "markdown",
      "source": [
        "参考にさせていただいたサイト。ほぼそのままです。\n",
        "\n",
        "https://note.com/npaka/n/n8a435f0c8f69"
      ],
      "metadata": {
        "id": "FZr1Edkwfdg8"
      }
    },
    {
      "cell_type": "markdown",
      "source": [
        "# GPT2でファインチューニングしたモデルから文章生成する。\n",
        "\n",
        "公開されているRinnaの学習モデルをファインチューニングしたモデルから文章の生成を行う。\n",
        "\n",
        "環境\n",
        "\n",
        " - Clab PRO\n",
        " - Google Drive\n",
        "\n",
        "ディレクトリ\n",
        "\n",
        "./output : 学習したモデルを保存"
      ],
      "metadata": {
        "id": "uwaE-pyPfaxq"
      }
    },
    {
      "cell_type": "code",
      "source": [
        "# Google Driveに接続\n",
        "from google.colab import drive \n",
        "drive.mount('/content/drive')\n",
        "!mkdir -p '/content/drive/My Drive/work/'\n",
        "%cd '/content/drive/My Drive/work/'"
      ],
      "metadata": {
        "colab": {
          "base_uri": "https://localhost:8080/"
        },
        "id": "ApCCI8b1fjX_",
        "outputId": "9e3f419d-dfae-4fcb-b3e3-293884cd9c6f"
      },
      "execution_count": 33,
      "outputs": [
        {
          "output_type": "stream",
          "name": "stdout",
          "text": [
            "Drive already mounted at /content/drive; to attempt to forcibly remount, call drive.mount(\"/content/drive\", force_remount=True).\n",
            "/content/drive/My Drive/work\n"
          ]
        }
      ]
    },
    {
      "cell_type": "code",
      "source": [
        "!pip install transformers"
      ],
      "metadata": {
        "colab": {
          "base_uri": "https://localhost:8080/"
        },
        "id": "T9gfK5Xcfngy",
        "outputId": "debff2e2-8f6e-4c31-e342-e9606daa0930"
      },
      "execution_count": 34,
      "outputs": [
        {
          "output_type": "stream",
          "name": "stdout",
          "text": [
            "Looking in indexes: https://pypi.org/simple, https://us-python.pkg.dev/colab-wheels/public/simple/\n",
            "Requirement already satisfied: transformers in /usr/local/lib/python3.7/dist-packages (4.20.1)\n",
            "Requirement already satisfied: numpy>=1.17 in /usr/local/lib/python3.7/dist-packages (from transformers) (1.21.6)\n",
            "Requirement already satisfied: huggingface-hub<1.0,>=0.1.0 in /usr/local/lib/python3.7/dist-packages (from transformers) (0.8.1)\n",
            "Requirement already satisfied: regex!=2019.12.17 in /usr/local/lib/python3.7/dist-packages (from transformers) (2022.6.2)\n",
            "Requirement already satisfied: tokenizers!=0.11.3,<0.13,>=0.11.1 in /usr/local/lib/python3.7/dist-packages (from transformers) (0.12.1)\n",
            "Requirement already satisfied: requests in /usr/local/lib/python3.7/dist-packages (from transformers) (2.23.0)\n",
            "Requirement already satisfied: tqdm>=4.27 in /usr/local/lib/python3.7/dist-packages (from transformers) (4.49.0)\n",
            "Requirement already satisfied: filelock in /usr/local/lib/python3.7/dist-packages (from transformers) (3.7.1)\n",
            "Requirement already satisfied: pyyaml>=5.1 in /usr/local/lib/python3.7/dist-packages (from transformers) (6.0)\n",
            "Requirement already satisfied: importlib-metadata in /usr/local/lib/python3.7/dist-packages (from transformers) (4.12.0)\n",
            "Requirement already satisfied: packaging>=20.0 in /usr/local/lib/python3.7/dist-packages (from transformers) (21.3)\n",
            "Requirement already satisfied: typing-extensions>=3.7.4.3 in /usr/local/lib/python3.7/dist-packages (from huggingface-hub<1.0,>=0.1.0->transformers) (4.1.1)\n",
            "Requirement already satisfied: pyparsing!=3.0.5,>=2.0.2 in /usr/local/lib/python3.7/dist-packages (from packaging>=20.0->transformers) (3.0.9)\n",
            "Requirement already satisfied: zipp>=0.5 in /usr/local/lib/python3.7/dist-packages (from importlib-metadata->transformers) (3.8.1)\n",
            "Requirement already satisfied: chardet<4,>=3.0.2 in /usr/local/lib/python3.7/dist-packages (from requests->transformers) (3.0.4)\n",
            "Requirement already satisfied: idna<3,>=2.5 in /usr/local/lib/python3.7/dist-packages (from requests->transformers) (2.10)\n",
            "Requirement already satisfied: certifi>=2017.4.17 in /usr/local/lib/python3.7/dist-packages (from requests->transformers) (2022.6.15)\n",
            "Requirement already satisfied: urllib3!=1.25.0,!=1.25.1,<1.26,>=1.21.1 in /usr/local/lib/python3.7/dist-packages (from requests->transformers) (1.24.3)\n"
          ]
        }
      ]
    },
    {
      "cell_type": "markdown",
      "source": [
        "Runtime 再起動"
      ],
      "metadata": {
        "id": "2kF7BqTKgOuC"
      }
    },
    {
      "cell_type": "code",
      "source": [
        "# 作業フォルダへ\n",
        "%cd '/content/drive/My Drive/work/'"
      ],
      "metadata": {
        "colab": {
          "base_uri": "https://localhost:8080/"
        },
        "id": "UfIgjpqWfrkm",
        "outputId": "2bcccccd-c88d-4729-a9c3-a4f3f0cd2865"
      },
      "execution_count": 35,
      "outputs": [
        {
          "output_type": "stream",
          "name": "stdout",
          "text": [
            "/content/drive/My Drive/work\n"
          ]
        }
      ]
    },
    {
      "cell_type": "code",
      "source": [
        "# Huggingface Datasetsのインストール\n",
        "!pip install datasets==1.2.1\n",
        "# Sentencepieceのインストール\n",
        "!pip install sentencepiece==0.1.91"
      ],
      "metadata": {
        "colab": {
          "base_uri": "https://localhost:8080/"
        },
        "id": "7B8qH_7-fs9V",
        "outputId": "feb28cde-6a6d-4d80-e1d4-23bb63e448e5"
      },
      "execution_count": 36,
      "outputs": [
        {
          "output_type": "stream",
          "name": "stdout",
          "text": [
            "Looking in indexes: https://pypi.org/simple, https://us-python.pkg.dev/colab-wheels/public/simple/\n",
            "Requirement already satisfied: datasets==1.2.1 in /usr/local/lib/python3.7/dist-packages (1.2.1)\n",
            "Requirement already satisfied: xxhash in /usr/local/lib/python3.7/dist-packages (from datasets==1.2.1) (3.0.0)\n",
            "Requirement already satisfied: tqdm<4.50.0,>=4.27 in /usr/local/lib/python3.7/dist-packages (from datasets==1.2.1) (4.49.0)\n",
            "Requirement already satisfied: multiprocess in /usr/local/lib/python3.7/dist-packages (from datasets==1.2.1) (0.70.13)\n",
            "Requirement already satisfied: requests>=2.19.0 in /usr/local/lib/python3.7/dist-packages (from datasets==1.2.1) (2.23.0)\n",
            "Requirement already satisfied: numpy>=1.17 in /usr/local/lib/python3.7/dist-packages (from datasets==1.2.1) (1.21.6)\n",
            "Requirement already satisfied: importlib-metadata in /usr/local/lib/python3.7/dist-packages (from datasets==1.2.1) (4.12.0)\n",
            "Requirement already satisfied: dill in /usr/local/lib/python3.7/dist-packages (from datasets==1.2.1) (0.3.5.1)\n",
            "Requirement already satisfied: pandas in /usr/local/lib/python3.7/dist-packages (from datasets==1.2.1) (1.3.5)\n",
            "Requirement already satisfied: pyarrow>=0.17.1 in /usr/local/lib/python3.7/dist-packages (from datasets==1.2.1) (6.0.1)\n",
            "Requirement already satisfied: chardet<4,>=3.0.2 in /usr/local/lib/python3.7/dist-packages (from requests>=2.19.0->datasets==1.2.1) (3.0.4)\n",
            "Requirement already satisfied: urllib3!=1.25.0,!=1.25.1,<1.26,>=1.21.1 in /usr/local/lib/python3.7/dist-packages (from requests>=2.19.0->datasets==1.2.1) (1.24.3)\n",
            "Requirement already satisfied: idna<3,>=2.5 in /usr/local/lib/python3.7/dist-packages (from requests>=2.19.0->datasets==1.2.1) (2.10)\n",
            "Requirement already satisfied: certifi>=2017.4.17 in /usr/local/lib/python3.7/dist-packages (from requests>=2.19.0->datasets==1.2.1) (2022.6.15)\n",
            "Requirement already satisfied: zipp>=0.5 in /usr/local/lib/python3.7/dist-packages (from importlib-metadata->datasets==1.2.1) (3.8.1)\n",
            "Requirement already satisfied: typing-extensions>=3.6.4 in /usr/local/lib/python3.7/dist-packages (from importlib-metadata->datasets==1.2.1) (4.1.1)\n",
            "Requirement already satisfied: pytz>=2017.3 in /usr/local/lib/python3.7/dist-packages (from pandas->datasets==1.2.1) (2022.1)\n",
            "Requirement already satisfied: python-dateutil>=2.7.3 in /usr/local/lib/python3.7/dist-packages (from pandas->datasets==1.2.1) (2.8.2)\n",
            "Requirement already satisfied: six>=1.5 in /usr/local/lib/python3.7/dist-packages (from python-dateutil>=2.7.3->pandas->datasets==1.2.1) (1.15.0)\n",
            "Looking in indexes: https://pypi.org/simple, https://us-python.pkg.dev/colab-wheels/public/simple/\n",
            "Requirement already satisfied: sentencepiece==0.1.91 in /usr/local/lib/python3.7/dist-packages (0.1.91)\n"
          ]
        }
      ]
    },
    {
      "cell_type": "markdown",
      "source": [
        "「./transformers/examples/language-modeling/run_clm.py」の編集。\n",
        "「rinna」の日本語GPT-2モデルは「AutoTokenizer」ではなく「T5Tokenizer」を使う必要があります。"
      ],
      "metadata": {
        "id": "QUOeQKizf4a8"
      }
    },
    {
      "cell_type": "code",
      "source": [
        "from transformers import T5Tokenizer, AutoModelForCausalLM\n",
        "import re\n",
        "\n",
        "# トークナイザーとモデルの準備\n",
        "tokenizer = T5Tokenizer.from_pretrained(\"rinna/japanese-gpt2-small\")\n",
        "model = AutoModelForCausalLM.from_pretrained(\"output_sangoku/\")\n",
        "\n",
        "# テスト生成\n",
        "input = tokenizer.encode(\n",
        "    \"\"\"劉備は孔明に問うた。\"\"\", return_tensors=\"pt\")\n",
        "output = model.generate(input,\n",
        "                        do_sample=True,\n",
        "                        top_p=0.95,\n",
        "                        top_k=0,\n",
        "                        max_length=400,\n",
        "                        skip_special_tokens=True,\n",
        "                        pad_token_id=tokenizer.pad_token_id,\n",
        "                        bos_token_id=tokenizer.bos_token_id,\n",
        "                        eos_token_id=tokenizer.eos_token_id,\n",
        "                        bad_word_ids=[[tokenizer.unk_token_id]],\n",
        "                        num_return_sequences=20\n",
        "                        )\n",
        "\n",
        "# 結果表示\n",
        "for list_output in output:\n",
        "  print(re.sub(r'<s>|<unk>|\\[PAD\\]|\\[SEP\\]| ', '',\n",
        "               tokenizer.decode(list_output).replace('</s>', '\\n')))\n"
      ],
      "metadata": {
        "colab": {
          "base_uri": "https://localhost:8080/"
        },
        "id": "3wJ5QknBoZto",
        "outputId": "481b68c3-d4bf-4b26-e37a-b3419d1c81b6"
      },
      "execution_count": 37,
      "outputs": [
        {
          "output_type": "stream",
          "name": "stdout",
          "text": [
            "劉備は孔明に問うた。\n",
            "「いやしくも申したり。其許は疾くより何故、この地に来り、賢慮をめぐらして、ここの守りをいいつけたか」\n",
            "\n",
            "劉備は孔明に問うた。\n",
            "「さきに張魯様にも、やはり同じようなご苦衷を語られていましたな」\n",
            "\n",
            "劉備は孔明に問うた。\n",
            "「関羽の戦法は、新手ですな。何が違うのか」\n",
            "\n",
            "劉備は孔明に問うた。\n",
            "「関羽の戦法は、まるで児童戦のようです。なぜならば、私にはその戦法を工夫する才識がありませんから」\n",
            "\n",
            "劉備は孔明に問うた。\n",
            "「隴西の諸郡から、長安へむかって、勝ちに乗ってくる精兵は、何と約数のいわれを持っているか」\n",
            "\n",
            "劉備は孔明に問うた。\n",
            "「では、馬超の身内は、やはりあの身内でないことになってきたな」\n",
            "\n",
            "劉備は孔明に問うた。\n",
            "「丞相、昨夜から今朝にかけて、夢に怪異な夢を幾度か見たのですが」\n",
            "\n",
            "劉備は孔明に問うた。\n",
            "「では、甲まで出していたんですか?」\n",
            "\n",
            "劉備は孔明に問うた。\n",
            "「では、汝には、後堂にいる良人に向いて、そっと剣を渡してくれ。その剣で汝にも、禍いを転嫁してやろう」\n",
            "\n",
            "劉備は孔明に問うた。\n",
            "「では、三度勅使を待つつもりか」\n",
            "\n",
            "劉備は孔明に問うた。\n",
            "「では、汝の弟は、どの辺にいるのか」\n",
            "\n",
            "劉備は孔明に問うた。\n",
            "「かかる大雪。この路に立って、軍旅をするあなたがたには、何の苦心もなく、無事に帰るつもりですか」\n",
            "\n",
            "劉備は孔明に問うた。\n",
            "「荊州の形勢はどうだった?」\n",
            "\n",
            "劉備は孔明に問うた。\n",
            "「関羽の武勇は、古の孫子呉子にも劣らないものだ。いま、孫呉のを破ったものは、貴公たち二人で、赤壁の一戦に、勝ったものは、貴公たち二人で、その勲功は、十万に近いであろう」\n",
            "\n",
            "劉備は孔明に問うた。\n",
            "「勝敗は兵家の常だ。どうしてそうなるのか」\n",
            "\n",
            "劉備は孔明に問うた。\n",
            "「丞相が即位なされたら、いつご狩猟にお出まし遊ばしますか」\n",
            "\n",
            "劉備は孔明に問うた。\n",
            "「では、汝の如きは、そもそも、なんの能があるのか」\n",
            "\n",
            "劉備は孔明に問うた。\n",
            "「丞相がよくご存じなのは、かの虎が死んだ時、いかにして関羽を得たかということです。故人の遺託をうけて、これを丞相に献じ、丞相は、関羽を亡ぼしてから、ふたたび荊州に亡父の墳墓を営まれることになろうとは、人臣のの道でも、あまりよろしくありません。では、丞相は、いかなる計をもって、関羽を亡ぼしたか」\n",
            "\n",
            "劉備は孔明に問うた。\n",
            "「では、大都督には、すでにご着任とみえるな。何の急を要するお旨であるか」\n",
            "\n",
            "劉備は孔明に問うた。\n",
            "「丞相、いかがしたものでしょう」\n",
            "\n"
          ]
        }
      ]
    },
    {
      "cell_type": "code",
      "source": [
        "# 生成部\n",
        "\n",
        "def generate_txt(prompt_txt) -> str:\n",
        "  '''テキスト生成'''\n",
        "  input = tokenizer.encode(\n",
        "    prompt_txt, return_tensors=\"pt\")\n",
        "  output = model.generate(input,\n",
        "                          do_sample=True,\n",
        "                          top_p=0.95,\n",
        "                          top_k=0,\n",
        "                          max_length=1024,\n",
        "                          skip_special_tokens=True,\n",
        "                          pad_token_id=tokenizer.pad_token_id,\n",
        "                          bos_token_id=tokenizer.bos_token_id,\n",
        "                          eos_token_id=tokenizer.eos_token_id,\n",
        "                          bad_word_ids=[[tokenizer.unk_token_id]],\n",
        "                          num_return_sequences=1\n",
        "                          )\n",
        "  return tokenizer.decode(output[0],skip_special_tokens=True)\n",
        "\n",
        "prompt_txt = \"劉備は孔明に問うた。\"\n",
        "print(generate_txt(prompt_txt))"
      ],
      "metadata": {
        "colab": {
          "base_uri": "https://localhost:8080/"
        },
        "id": "FZZD92K0LYzm",
        "outputId": "d9d8dc05-3a4e-4262-ef45-a1deb839ec8f"
      },
      "execution_count": 38,
      "outputs": [
        {
          "output_type": "stream",
          "name": "stdout",
          "text": [
            "劉備は孔明に問うた。 「丞相の兵馬は、みな東方の山岳におわす。丞相の発向したその方向へ、兵を進めては遅くないでしょう」\n"
          ]
        }
      ]
    },
    {
      "cell_type": "code",
      "source": [
        "# 作文\n",
        "prompt_txt = \"劉備は孔明に問うた。\"\n",
        "\n",
        "#\n",
        "lines = [prompt_txt]\n",
        "i = 0\n",
        "\n",
        "while i < 100:\n",
        "  i += 1\n",
        "  line = generate_txt(prompt_txt)\n",
        "  print(line[len(prompt_txt):])\n",
        "  lines.append(line[len(prompt_txt):])\n",
        "  prompt_lines = len(lines)\n",
        "  prompt_lines -= 10\n",
        "  if prompt_lines < 0:\n",
        "    prompt_lines = 0\n",
        "  prompt_txt = \"\\n\".join(lines[prompt_lines:])\n",
        "  # print(\"prompt\",prompt_txt)\n"
      ],
      "metadata": {
        "colab": {
          "base_uri": "https://localhost:8080/"
        },
        "id": "aWT1yIWuM-GG",
        "outputId": "cfcdf54a-1ba9-47cc-8156-bf43c95b5f38"
      },
      "execution_count": 41,
      "outputs": [
        {
          "output_type": "stream",
          "name": "stdout",
          "text": [
            " 「ますら、貴公はこの一戦のさなか、いかなる妙策をめぐらしたか」\n",
            "「さればです。思い出せば、二十年ほど前、知人の秦川から、一羽の鹿を贈ってきました。たいへん稀有な鹿で、羽つきで舌ばしりも強く、手に立てても非常に重く、五百斤もおうろうかと思えるものでしたが、朽ちても朽ちても草木を食いますので、値につけては皆手もとになく、とうとう曹操にあげてしまったことがあるのです」\n",
            "「ふむ。そういわれてみると、なお考えれば考えるほど、これは奇妙だが、大いなる計策でもあろうか」\n",
            "「さればです。ふと考えたのですが、無名の英傑をあげて、その人物を、ひそかに貴公の麾下へ加え、時々、上庸の城へ呼んで、狩猟をさせたら、どんなことになるかと思いますが」\n",
            "「なるほど、これは一計だ。さっそく明日、それがしを城へ呼んで、親しく其方と狩猟を共にしては如何」\n",
            "孔明は、すぐ仮の官渡城へ移った。そして毎日、外敵の糧食毒酒など毒に浸した檻車を、猛獣の群れが通りそうな岸へ上せて、何十台となく車を護岸した。\n",
            "孔明の「善策」を聞いて、軍はたちまち意気を昂げた。すなわち前後軍に授け、太史慈を先手とし、魏延、徐晃などを後陣として、昼夜、金鼓鉄槍を震わせて、陣々の要害に迫って行った。\n",
            "敵影を見ないうちに、金鼓鉄槍の音は、すでに四方に鳴りひびいた。周瑜の中軍も、徐晃の後ろ備えも、いちどに奮い起って、\n",
            "「あれこそ、孔明の与えた妙案である。今こそ奪るは絶好の戦機」\n",
            "と、大声あげて、指揮に当り、獅子奮迅の機を逸しないように、各所に阻めた。\n",
            "鶏肋\n",
            " 魏軍は完敗した。これで金鼓鉄槍もすべて鳴りをしずめた。周瑜は、痩せ衰えたお身の上に、また鉄甲を着かさねて、威風あたりを払ったが、\n",
            "「何たることだ」\n",
            "と、底知れない敵意に打たれて、喚きもだめよと、左右へ罵った。\n",
            "すると、程普は、\n",
            "「丞相のおことばには、其許のため敗れたのでありません。然るに、周瑜の罪は、われらのものより軽い。これを以て、都督に害意なしなどとは、われを盲にした不敬である」\n",
            "と、耳もかさない。\n",
            "怒れる周瑜は、程普を床に蹴って、\n",
            "「さてさて、周瑜の浅慮は、周都督だけの不徳ではない。誰よりも、丞相自身がゆるさんとしておる。この上は、諸将とよく相談のうえ、丁寧に一計をめぐらして来い」と、痛烈に突っぱねた。\n",
            "程普は、怒りに燃えながら、陸遜の下へ行き、\n",
            "「都督、それがしの任は、もうしばらく後とします。それがしは、即時、敵へ宣戦します。さすれば、孔明の首は、ふたたびわが手のものになります」と、いった。\n",
            "陸遜は、苦もなくこのことばを承諾した。次の日、彼はわざと、敵に趣を察知させるため、陸遜の陣地へ出向いた。\n",
            " 「こんなことをしている暇はないというのに、どうしてあんな急に出てくるんです」\n",
            "諸将が怪しんで訊くと、陸遜は、\n",
            "「深更、陣前へもどって、こよいの襲撃の準備をしているからだ」と、言下に答えた。\n",
            "しかし、大油断はなりません。陣中は寂として、墨の如く殺気が立ちこめている。そして、物見の兵が、星の如くけ通って行く。\n",
            "「これはいかん」\n",
            "陸遜は、生捕られるか、部下をひきつれて、敵のあとを追って奔りだそうとしたが、それも敵に見つかるとたちまち追いつかれて、彼の陣地は一支えもなく潰えてしまった。\n",
            "「都督、なぜ、止めるのですか」\n",
            "陸遜は、部下に向って、嘆いた。\n",
            "「いかに襲せても、孔明の首は、ふたたびわが手にかえらない。偽って、深更、陣中へ逃げこめば、諸所へ火を放って、殲滅を加えることは、もう恐るるに足らん。それに、彼奴は、馬がお嫌いだ。馬をかわしながら、悠々、陣内へ帰ってゆくのが、なんとも落だ」\n",
            "次の日、彼はまた、みずから陣前へ出て、密告した。\n",
            "孔明は、何事かと、\n",
            " 「楊儀を呼べ」と、いいつけた。\n",
            "楊儀は、やがて、彼の前に来て、ことば少なに告げた。\n",
            "「おそらく、魏延が詐計です。彼は本気で戦っていない。浅慮に、部下の罪を、過大に科し過ぎました。いま一挙に、孔明の首を諸所の火の手へ投げこめば、魏延の首は、一鼓して、蜀中を震せしめるに違いありません」\n",
            "陸遜は、大いに怒って、\n",
            "「楊儀を檻車の中に放つな」と、他の部将へ厳命した。\n",
            "楊儀は、部将の首を持って、け出して、こんどは、孔明の陣へかかった。しかし孔明は、ひと目見るや、\n",
            "「斬れッ」と、ひと声さしまねいて、檻車を放してしまった。\n",
            "野に真人あり\n",
            "魏延は、たちまち鉄甲に身を鎧い、駒を揃えて、野火の中へ馳け入った。\n",
            "そのとき魏延の幕将の一人たる楊儀は、魏延が馬をすすめてくると、\n",
            "「待ちたまえ」\n",
            " と一喝し、\n",
            "「野に人なしとは、魏延の独りこと。汝もまた、わが口をええているか」\n",
            "と、魏延を挟撃した。\n",
            "魏延は、楊儀につづいて、中軍へ猪突して行ったが、そのとき関興と名乗って、五千の味方をひきつれていた。\n",
            "関興はその日のうちに、さらに、司馬懿の本軍を蹴ちらして、勝ちに乗って引っ返してきた。\n",
            "司馬懿は、この大捷を、口ほどもなく、誇りにも思わず、\n",
            "「都督の粘りは、つねにわが逆境をしのいでくれる」\n",
            "と、楊儀が語るのも忘れて、ただ快然と笑っていた。\n",
            "渭水の本陣に、戻ってみると、関興は、楊儀と凱歌を奏しながら、凱旋の旗を待っていた。\n",
            "魏延は、待ちきれず、\n",
            "「あらばあれ、司馬懿をここへ」\n",
            " と、水辺まで馳けてきて、待ちかまえていた。\n",
            "司馬懿は、楊儀との交情を、口を極めてたのみながら、\n",
            "「おそらく彼は、大なる野心を抱いている。渭水の彼の陣所は、まさに我が陣地だ。わが前へ彼が攻め寄せてきたのを見ては、胆をつぶし、兵を収め、ふたたび渭水へ帰るだろう。しかし、敵の備えは、虚である。従って、彼が渭水へ逃げてくるのは、破竹の如きものだ」\n",
            "と、いって、まずその虚勢を張らせ、自身は西の山へ向って、兵糧の運輸を励ましていた。\n",
            "この態を見るに及んで、魏延は、「これはいかん」と、いよいよ慌て出した。そして楊儀と凱歌を奏しながら、水辺へ向って、逆寄せの令を発せんとした。\n",
            "「待ち給え。味方の危機とあれば、なおさらもその通りである。帷幕の将、どっちが旗を見て、破竹の勢いか知れないぞ」\n",
            "と、楊儀とともに、水辺へ向って、爪牙を研ぎ立てた。\n",
            "渭水の序戦は、ここに破れ、魏延の軍は潰走を余儀なくされたが、渭水の退路は、断じて、断じて、守るを旨とすべきであると、以後、固く守って、遂に、渭水を抜くこともなかった。\n",
            "魏延は、楊儀と凱歌を奏しながら、ほとんど、手応えなく、魏軍の中へ、敗北を招いた顔見合わせで、引き揚げてきた。\n",
            "その途中、\n",
            "「そうだ。ここは、俺の陣地だ。楊儀と一手になって、一掃してくれ」\n",
            " と、気負い立って、部下を従えて、山越えに越えて行った。\n",
            "すると、途中で、一軍の魏延に出会ってしまった。これはやや敵をあざむく、好餌ばかり待っていた。\n",
            "「うい奴だ。魏延を生ってこい」\n",
            "たちまち、彼の前に、矛を逆しまに突き立てられたので、魏延は、\n",
            "「やっ、来たか」\n",
            "と、馬を躍らせて助けよとしたが、魏延は振り向いて、槍を横たえて、\n",
            "「世にきこえた神通力者がある。神通力なく、神通力なく、九死一生を棒に振った俺を、神通力のある口ほどにしろ」\n",
            "と、励まし励まし逃げのびた。\n",
            "「口ほどもない奴、その首を置いてゆけ」\n",
            "馬を立て直しているまもない。四山は暴れまわって、魏延を追いまくった。\n",
            "すると、やがて、魏延の部下が、追いついて、馬を奪ってきた。魏延は、\n",
            " 「これっ、神通力のある奴ならば、今のうちに、降参してしまえ」\n",
            "と、馬を躍らせて、神通力なく、逃げのびた。\n",
            "そして、南安郡(甘粛省・蘭州の東)の城へたてこもると、太守王平が、すでに攻めあぐねて、味方の援軍をたのみに待っていたところであった。\n",
            "「何をっ」\n",
            "と、剣を鳴らして、呼ばわった者がある。\n",
            "玄徳の命に、\n",
            "「降参ッ」\n",
            "と、答えながら、はや馬をすすめてきた一騎の人がある。\n",
            "見れば、青面の大をいただき、腰には、一の燈火を垂れ、眉には、怒れる風をみなぎらし、は、天に向ってく。\n",
            "これなん、蜀の猛将孔明でしょう。\n",
            "「おおっ、これに」\n",
            " と、玄徳も、鞍をおりて、前へ進み出るや、関羽に力を添えて、あれよと、彼のそばへ寄り添った。\n",
            "「南安の太守、どうしますか」\n",
            "「そちがここにいても、大事はとれまい。汝に取次いでくれ」\n",
            "「よろしい、では、早速、それがしが、行って参りましょう」\n",
            "関羽は、玄徳の馬を引かせて、自ら先に立ち、\n",
            "「やあ、羽将軍があれへ」と、呼びかけた。\n",
            "玄徳は、恐して、\n",
            "「何処の、者か」と、馬上からたずねた。\n",
            "「うむ、汝らの前にも、かつては、羽将軍がおられたではないか。それがしは年七十に及んでおる。耳も遠く眼もかすんでおる。それでも、よくこの関羽を扶け、防ぎに出たか」\n",
            "関羽は、改めて、\n",
            "「その以前、それがしが若年から許都に在った頃、よく洛陽を守っていた者ではないか。その後、魏に仕えて、黄巾賊の乱にもいささか功をたてた。だが、その頃まだ、汝南には、黄巾賊も疾くおりませんでしたろう。その後、洛陽の離散中に、人物を見出し、かくは、汝南へつかわして、残党をたくみに買収し、お味方に加えて来おった。これは当時、汝南において、如何なる功名も持たない者が、幾人かあったためである。それを思うと、汝南の黄巾賊は、風のように去って行ったのは、いかに功名を持たない者でも、徳せば、すぐ追いつけるほど、味方に手強かっただけのことだろう。さすがに、功ある者は必ず慢心せず、よく節操を守っているものだ」\n",
            " 玄徳の感嘆は、いうまでもなかった。さすがに、司馬徽の如きは、他人の訓戒を、すぐ自分のことばに直して云いだすのだった。\n"
          ]
        }
      ]
    },
    {
      "cell_type": "code",
      "source": [
        "import csv\n",
        "\n",
        "with open('generated_text.txt', 'w') as f:\n",
        "  f.write(\"\\n\".join(lines))"
      ],
      "metadata": {
        "id": "4JAc_JXj95DC"
      },
      "execution_count": 42,
      "outputs": []
    }
  ]
}